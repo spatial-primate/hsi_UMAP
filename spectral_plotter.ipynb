{
 "cells": [
  {
   "cell_type": "markdown",
   "metadata": {
    "pycharm": {
     "name": "#%% md\n"
    }
   },
   "source": [
    "##### appends species sources root\n",
    "###### so that manny can be imported as a module"
   ]
  },
  {
   "cell_type": "code",
   "execution_count": null,
   "metadata": {
    "pycharm": {
     "name": "#%%\n"
    }
   },
   "outputs": [],
   "source": [
    "import sys\n",
    "nb_dir = '../..'\n",
    "if nb_dir not in sys.path:\n",
    "    sys.path.append(nb_dir)"
   ]
  },
  {
   "cell_type": "code",
   "execution_count": null,
   "metadata": {
    "pycharm": {
     "name": "#%%\n"
    }
   },
   "outputs": [],
   "source": [
    "from species.modeling.manny import *"
   ]
  },
  {
   "cell_type": "code",
   "execution_count": null,
   "metadata": {
    "pycharm": {
     "name": "#%%\n"
    }
   },
   "outputs": [],
   "source": [
    "# Bokeh\n",
    "from bokeh.io import output_notebook\n",
    "\n",
    "output_notebook()"
   ]
  },
  {
   "cell_type": "code",
   "execution_count": null,
   "metadata": {
    "pycharm": {
     "name": "#%%\n"
    }
   },
   "outputs": [],
   "source": [
    "from IPython.display import display, HTML\n",
    "display(HTML(\"<style>.container { width:90% !important; }</style>\"))"
   ]
  },
  {
   "cell_type": "markdown",
   "metadata": {
    "pycharm": {
     "name": "#%% md\n"
    }
   },
   "source": [
    "## User-defined inputs\n",
    "\n",
    "GENERAL INPUTS:"
   ]
  },
  {
   "cell_type": "code",
   "execution_count": null,
   "metadata": {
    "pycharm": {
     "name": "#%%\n"
    }
   },
   "outputs": [],
   "source": [
    "#'image_file' -- filepath to image from which spectra will be extracted\n",
    "# image_file = r\"W:\\Portland_General_2019_034492\\03_ANALYSIS\\20190724M1\\02_MOSAICS\\190724M1_REFbnPCA10_bnMNF10_bn_PSRI_PRI_NDVI_REFir_bnir_dis_entropy_CHM\"\n",
    "# image_file = r\"U:\\users\\Luke_Brown\\umap_interactive\\724m1_pgen_noMNF_subset\"\n",
    "image_file = r\"U:\\PG_E_Midcycle_IVM_Pilot\\03_ANALYSIS\\626_B_North\\02_MOSAICS\\626B_North_Layer_Stack_BN39_MNF30_PCA30_VEG10_DR8_VAR8\"\n",
    "\n",
    "#'shape_file' -- filepath to shapefile containing focal features (eg. tree polygons)\n",
    "# shape_file = r\"W:\\00_HSI_Training_Data\\03_Training_Data_KL\\03_ANALYSIS\\190724M1\\01_REFERENCE_VECTORS\\02_TRAIN_VAL_POLYGONS\\03_TRAINING_POLYGONS\\PGE_20190724_Training_Polys_20220311_AS.shp\"\n",
    "shape_file = r\"D:\\Projects_HSI\\pg_e_ivm_hsi_2020\\626B_North\\tv_polys\\PG_E_IVM_MFGH_626M1B_TVPolys_NORTH_FINAL.shp\"\n",
    "\n",
    "#'class_field' -- name of feature class field listing species class code (numeric)\n",
    "# class_field = 'Code_3'\n",
    "class_field = 'Class_9'\n",
    "\n",
    "#'class_lookup' -- filepath to csv listing feature classes (eg. tree species) and associated class codes\n",
    "# class_lookup = r\"W:\\00_HSI_Training_Data\\03_Training_Data_KL\\03_ANALYSIS\\190724M1\\01_REFERENCE_VECTORS\\02_TRAIN_VAL_POLYGONS\\Portland_General_2019_Tree_Code_Lookup_190724M1_code_3.csv\"\n",
    "class_lookup = r\"U:\\\\PG_E_Midcycle_IVM_Pilot\\\\00_PRELIM\\\\GROUND_TRUTH_DATA\\\\PG_E_IVM_Pilot_Tree_Code_Lookup_TEMPLATE.csv\"\n",
    "\n",
    "# 'chips' -- if 'True', outputs individual chips (as tiffs) in location [wd]\\chips\n",
    "chips = False"
   ]
  },
  {
   "cell_type": "markdown",
   "metadata": {
    "pycharm": {
     "name": "#%% md\n"
    }
   },
   "source": [
    "#### Let's get some stats\n",
    "Reading in your data and returning sample size by species"
   ]
  },
  {
   "cell_type": "code",
   "execution_count": null,
   "metadata": {
    "pycharm": {
     "name": "#%%\n"
    }
   },
   "outputs": [],
   "source": [
    "species_d = parse_lookup_table(class_lookup)\n",
    "\n",
    "chip_d, chip_d_ss, species_ct_d = extract_chips(image_file, shape_file, class_field, species_d, chip=chips)\n",
    "print(\"\\nInput shapefile contains:\")\n",
    "for k, v in species_ct_d.items():\n",
    "    print(f\"{v} features of species {k}\")"
   ]
  },
  {
   "cell_type": "markdown",
   "metadata": {
    "pycharm": {
     "name": "#%% md\n"
    }
   },
   "source": [
    "### CHOOSE YOUR PLOTS!\n",
    "Plot parameters and other user input are specified here"
   ]
  },
  {
   "cell_type": "markdown",
   "metadata": {
    "pycharm": {
     "name": "#%% md\n"
    }
   },
   "source": [
    "#### Spectral Signature Plot (ss_plot) ####\n",
    "inputs: n-band image, polygon set and class lookup table\n",
    "outputs: a plot of spectral signature for each class\n",
    "users can specify: whether plot should include standard deviation ribbons for species signatures; which bands and species to use (defaults: all bands, all species).\n",
    "\n",
    "*If the input image includes derived bands (MNF, textures), the user *should** specify a subset of bands that exclude these.*"
   ]
  },
  {
   "cell_type": "code",
   "execution_count": null,
   "metadata": {
    "pycharm": {
     "name": "#%%\n"
    }
   },
   "outputs": [],
   "source": [
    "# 'ss_plot' -- If 'true', output will include a spectral signatures plot\n",
    "ss_plot = True\n",
    "\n",
    "# 'st_dev' -- If 'True', plot will include st dev ribbons around the mean spectral value for each class\n",
    "st_dev = False\n",
    "\n",
    "# 'band_select_ss' -- list of bands to include in Spectral Signature visualization. If 'None', all bands will be used\n",
    "#band_select_ss = [1,2,3,4,5,6,7,8,9,10,11,12,13,14,15,16,17,18,19]\n",
    "\n",
    "# 'ss_fp' -- filepath for saving the spectral signatures plot output. If 'None', will not save to file\n",
    "ss_fp = None"
   ]
  },
  {
   "cell_type": "markdown",
   "metadata": {
    "pycharm": {
     "name": "#%% md\n"
    }
   },
   "source": [
    "#### Spectral Pair Plot (pp_plot) ####\n",
    "inputs:\n",
    "outputs:\n",
    "users can specify:"
   ]
  },
  {
   "cell_type": "code",
   "execution_count": null,
   "metadata": {
    "pycharm": {
     "name": "#%%\n"
    }
   },
   "outputs": [],
   "source": [
    "# 'pp_plot' -- If 'true', output will include a spectral pairplot for up to 10 spectral bands\n",
    "pp_plot = True\n",
    "\n",
    "# 'band_select_pp' -- list of bands to include in pairplot comparison; choose maximum of 10 bands.\n",
    "band_select_pp = [ 96, 98, 100, 102, 104, 106]\n",
    "\n",
    "# 'pp_fp' -- filepath for saving the output pairplot. If 'None', will not save to file\n",
    "pp_fp = None"
   ]
  },
  {
   "cell_type": "markdown",
   "metadata": {
    "pycharm": {
     "name": "#%% md\n"
    }
   },
   "source": [
    "#### UMAP Visualization Plot (u_plot) ####\n",
    "inputs:\n",
    "outputs:\n",
    "users can specify:"
   ]
  },
  {
   "cell_type": "markdown",
   "metadata": {
    "pycharm": {
     "name": "#%% md\n"
    }
   },
   "source": [
    "## Let's plot!\n",
    "Functions are called in this portion of the script"
   ]
  },
  {
   "cell_type": "code",
   "execution_count": null,
   "metadata": {
    "pycharm": {
     "name": "#%%\n"
    }
   },
   "outputs": [],
   "source": [
    "# todo: clean this up"
   ]
  },
  {
   "cell_type": "code",
   "execution_count": null,
   "outputs": [],
   "source": [
    "# 'u_plot' -- If 'true', output will include a UMAP plot\n",
    "u_plot = True\n",
    "\n",
    "if pp_plot or u_plot:\n",
    "    px_df = pixel_df(chip_d, species_d)"
   ],
   "metadata": {
    "collapsed": false,
    "pycharm": {
     "name": "#%%\n"
    }
   }
  },
  {
   "cell_type": "code",
   "execution_count": null,
   "outputs": [],
   "source": [
    "# 'band_select_u' -- list of bands to include in UMAP visualization. If 'None', all bands will be used\n",
    "band_select_u = 'all'  # [1,2,3,4,5,51,52,53,86,87,88,89,96,97,98,99,100,101,102,103,104,105,106]\n",
    "\n",
    "if band_select_u == 'all':\n",
    "    with rasterio.open(image_file) as src:\n",
    "        band_select_u = list(range(1, src.count + 1))\n",
    "\n",
    "# 'species_select_u' -- list of species class codes (numeric) corresponding to species you wish to include\n",
    "# in UMAP visualization. If 'None', all species will be used\n",
    "# Examples:\n",
    "# species_select_u = [2, 4, 25, 27, 31], or\n",
    "# [2, 3, 4, 5, 6, 7, 8, 9, 10, 11, 12, 13, 14, 15, 16]\n",
    "species_select_u = px_df.class_code.unique()\n",
    "\n",
    "# 'u_fp' -- filepath for saving the output UMAP plot. If 'None', will not save to file\n",
    "u_fp = None"
   ],
   "metadata": {
    "collapsed": false,
    "pycharm": {
     "name": "#%%\n"
    }
   }
  },
  {
   "cell_type": "code",
   "execution_count": null,
   "metadata": {
    "pycharm": {
     "name": "#%%\n"
    }
   },
   "outputs": [],
   "source": [
    "if ss_plot:\n",
    "    print('Preparing Spectral Signature Plot')\n",
    "    spectral_signature_plot(chip_d_ss, species_d, stdev=st_dev, ss_fp=ss_fp)"
   ]
  },
  {
   "cell_type": "code",
   "execution_count": null,
   "metadata": {
    "pycharm": {
     "name": "#%%\n"
    }
   },
   "outputs": [],
   "source": [
    "if pp_plot:\n",
    "    print('Preparing Spectral Pairplot')\n",
    "    spectral_pairplot(band_select_pp, px_df, pp_fp=pp_fp)"
   ]
  },
  {
   "cell_type": "code",
   "execution_count": null,
   "metadata": {
    "pycharm": {
     "name": "#%%\n"
    },
    "scrolled": false
   },
   "outputs": [],
   "source": [
    "if u_plot:\n",
    "    print('Preparing UMAP Visualization Plot for the following species:' + '\\n')\n",
    "    species_select = list(map(species_d.get, species_select_u))\n",
    "    print(species_select, '\\n')\n",
    "\n",
    "    pix_df = umap_vis_plot(px_df, shape_file, band_select_u, species_select, u_fp=u_fp)\n",
    "    print('Code has finished, so hopefully you saw some plots')"
   ]
  },
  {
   "cell_type": "code",
   "execution_count": null,
   "metadata": {
    "pycharm": {
     "name": "#%%\n"
    }
   },
   "outputs": [],
   "source": [
    "# 'ss_fp' -- filepath for saving the spectral signatures plot output. If 'None', will not save to file\n",
    "ss_fp = None\n",
    "\n",
    "# 'pp_fp' -- filepath for saving the output pairplot. If 'None', will not save to file\n",
    "pp_fp = None\n",
    "\n",
    "# 'u_fp' -- filepath for saving the output UMAP plot. If 'None', will not save to file\n",
    "u_fp = None"
   ]
  }
 ],
 "metadata": {
  "kernelspec": {
   "display_name": "Python 3",
   "language": "python",
   "name": "python3"
  },
  "language_info": {
   "codemirror_mode": {
    "name": "ipython",
    "version": 3
   },
   "file_extension": ".py",
   "mimetype": "text/x-python",
   "name": "python",
   "nbconvert_exporter": "python",
   "pygments_lexer": "ipython3",
   "version": "3.6.11"
  }
 },
 "nbformat": 4,
 "nbformat_minor": 1
}